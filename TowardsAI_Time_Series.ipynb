{
  "nbformat": 4,
  "nbformat_minor": 0,
  "metadata": {
    "colab": {
      "provenance": []
    },
    "kernelspec": {
      "name": "python3",
      "display_name": "Python 3"
    },
    "language_info": {
      "name": "python"
    },
    "accelerator": "TPU",
    "gpuClass": "standard"
  },
  "cells": [
    {
      "cell_type": "code",
      "execution_count": 43,
      "metadata": {
        "id": "nzxWHiKEw8Sg"
      },
      "outputs": [],
      "source": [
        "import pandas as pd\n",
        "import numpy as np\n",
        "import seaborn as sns\n",
        "import matplotlib.pyplot as plt\n",
        "from matplotlib.pylab import rcParams\n",
        "from datetime import datetime\n",
        "import warnings\n",
        "warnings.filterwarnings('ignore')\n",
        "%matplotlib inline\n",
        "from sklearn import preprocessing\n",
        "from sklearn.model_selection import train_test_split\n",
        "from sklearn.preprocessing import MinMaxScaler\n",
        "from tensorflow.keras.models import Sequential\n",
        "from tensorflow.keras.layers import Dense,Dropout , BatchNormalization\n",
        "from tensorflow.keras.layers import LSTM , Bidirectional\n",
        "from tensorflow.keras.initializers import RandomNormal, Constant\n",
        "import tensorflow as tf\n",
        "# use early stop to avoid over-fiting \n",
        "from tensorflow.keras.callbacks import EarlyStopping\n"
      ]
    },
    {
      "cell_type": "code",
      "source": [
        "# Reading and Exported file as csv\n",
        "\n",
        "data = pd.read_csv(\"/content/AAPL.csv\")\n",
        "print(data.head())"
      ],
      "metadata": {
        "colab": {
          "base_uri": "https://localhost:8080/"
        },
        "id": "wbgCNQlvxKbT",
        "outputId": "f15d4829-6d63-48f4-a4a6-f987babdf8be"
      },
      "execution_count": 3,
      "outputs": [
        {
          "output_type": "stream",
          "name": "stdout",
          "text": [
            "         Date        Open        High         Low       Close   Adj Close  \\\n",
            "0  2021-12-27  177.089996  180.419998  177.070007  180.330002  179.289459   \n",
            "1  2021-12-28  180.160004  181.330002  178.529999  179.289993  178.255417   \n",
            "2  2021-12-29  179.330002  180.630005  178.139999  179.380005  178.344925   \n",
            "3  2021-12-30  179.470001  180.570007  178.089996  178.199997  177.171738   \n",
            "4  2021-12-31  178.089996  179.229996  177.259995  177.570007  176.545380   \n",
            "\n",
            "     Volume  \n",
            "0  74919600  \n",
            "1  79144300  \n",
            "2  62348900  \n",
            "3  59773000  \n",
            "4  64062300  \n"
          ]
        }
      ]
    },
    {
      "cell_type": "code",
      "source": [
        "# Check duplicate, nan and so on. \n",
        "data.duplicated().sum().any()\n",
        "data.isna().sum()"
      ],
      "metadata": {
        "colab": {
          "base_uri": "https://localhost:8080/"
        },
        "id": "mI0nTEAkxVnj",
        "outputId": "06dd4392-8f76-4b59-fd42-986685a3fdfa"
      },
      "execution_count": 4,
      "outputs": [
        {
          "output_type": "execute_result",
          "data": {
            "text/plain": [
              "Date         0\n",
              "Open         0\n",
              "High         0\n",
              "Low          0\n",
              "Close        0\n",
              "Adj Close    0\n",
              "Volume       0\n",
              "dtype: int64"
            ]
          },
          "metadata": {},
          "execution_count": 4
        }
      ]
    },
    {
      "cell_type": "code",
      "source": [
        "# Function to explore and validate\n",
        "def explore(df):\n",
        "   print(f\"Dataset Shape: {df.shape}\")\n",
        "   summary = pd.DataFrame(df.dtypes,columns=['dtypes'])\n",
        "   summary = summary.reset_index()\n",
        "   summary['Name'] = summary['index']\n",
        "   summary = summary[['Name','dtypes']]\n",
        "   summary['Missing'] = df.isnull().sum().values\n",
        "   summary['Uniques'] = df.nunique().values\n",
        "   return summary"
      ],
      "metadata": {
        "id": "VjeJHgS5xa8-"
      },
      "execution_count": 5,
      "outputs": []
    },
    {
      "cell_type": "code",
      "source": [
        "# function call\n",
        "explore(data)"
      ],
      "metadata": {
        "colab": {
          "base_uri": "https://localhost:8080/",
          "height": 287
        },
        "id": "tH8ZDXjJxhNQ",
        "outputId": "b7e4043b-774c-4228-fa80-82233e623275"
      },
      "execution_count": 6,
      "outputs": [
        {
          "output_type": "stream",
          "name": "stdout",
          "text": [
            "Dataset Shape: (252, 7)\n"
          ]
        },
        {
          "output_type": "execute_result",
          "data": {
            "text/plain": [
              "        Name   dtypes  Missing  Uniques\n",
              "0       Date   object        0      252\n",
              "1       Open  float64        0      248\n",
              "2       High  float64        0      244\n",
              "3        Low  float64        0      248\n",
              "4      Close  float64        0      243\n",
              "5  Adj Close  float64        0      248\n",
              "6     Volume    int64        0      252"
            ],
            "text/html": [
              "\n",
              "  <div id=\"df-f2b2c4f2-802e-4117-a84c-fe803997e867\">\n",
              "    <div class=\"colab-df-container\">\n",
              "      <div>\n",
              "<style scoped>\n",
              "    .dataframe tbody tr th:only-of-type {\n",
              "        vertical-align: middle;\n",
              "    }\n",
              "\n",
              "    .dataframe tbody tr th {\n",
              "        vertical-align: top;\n",
              "    }\n",
              "\n",
              "    .dataframe thead th {\n",
              "        text-align: right;\n",
              "    }\n",
              "</style>\n",
              "<table border=\"1\" class=\"dataframe\">\n",
              "  <thead>\n",
              "    <tr style=\"text-align: right;\">\n",
              "      <th></th>\n",
              "      <th>Name</th>\n",
              "      <th>dtypes</th>\n",
              "      <th>Missing</th>\n",
              "      <th>Uniques</th>\n",
              "    </tr>\n",
              "  </thead>\n",
              "  <tbody>\n",
              "    <tr>\n",
              "      <th>0</th>\n",
              "      <td>Date</td>\n",
              "      <td>object</td>\n",
              "      <td>0</td>\n",
              "      <td>252</td>\n",
              "    </tr>\n",
              "    <tr>\n",
              "      <th>1</th>\n",
              "      <td>Open</td>\n",
              "      <td>float64</td>\n",
              "      <td>0</td>\n",
              "      <td>248</td>\n",
              "    </tr>\n",
              "    <tr>\n",
              "      <th>2</th>\n",
              "      <td>High</td>\n",
              "      <td>float64</td>\n",
              "      <td>0</td>\n",
              "      <td>244</td>\n",
              "    </tr>\n",
              "    <tr>\n",
              "      <th>3</th>\n",
              "      <td>Low</td>\n",
              "      <td>float64</td>\n",
              "      <td>0</td>\n",
              "      <td>248</td>\n",
              "    </tr>\n",
              "    <tr>\n",
              "      <th>4</th>\n",
              "      <td>Close</td>\n",
              "      <td>float64</td>\n",
              "      <td>0</td>\n",
              "      <td>243</td>\n",
              "    </tr>\n",
              "    <tr>\n",
              "      <th>5</th>\n",
              "      <td>Adj Close</td>\n",
              "      <td>float64</td>\n",
              "      <td>0</td>\n",
              "      <td>248</td>\n",
              "    </tr>\n",
              "    <tr>\n",
              "      <th>6</th>\n",
              "      <td>Volume</td>\n",
              "      <td>int64</td>\n",
              "      <td>0</td>\n",
              "      <td>252</td>\n",
              "    </tr>\n",
              "  </tbody>\n",
              "</table>\n",
              "</div>\n",
              "      <button class=\"colab-df-convert\" onclick=\"convertToInteractive('df-f2b2c4f2-802e-4117-a84c-fe803997e867')\"\n",
              "              title=\"Convert this dataframe to an interactive table.\"\n",
              "              style=\"display:none;\">\n",
              "        \n",
              "  <svg xmlns=\"http://www.w3.org/2000/svg\" height=\"24px\"viewBox=\"0 0 24 24\"\n",
              "       width=\"24px\">\n",
              "    <path d=\"M0 0h24v24H0V0z\" fill=\"none\"/>\n",
              "    <path d=\"M18.56 5.44l.94 2.06.94-2.06 2.06-.94-2.06-.94-.94-2.06-.94 2.06-2.06.94zm-11 1L8.5 8.5l.94-2.06 2.06-.94-2.06-.94L8.5 2.5l-.94 2.06-2.06.94zm10 10l.94 2.06.94-2.06 2.06-.94-2.06-.94-.94-2.06-.94 2.06-2.06.94z\"/><path d=\"M17.41 7.96l-1.37-1.37c-.4-.4-.92-.59-1.43-.59-.52 0-1.04.2-1.43.59L10.3 9.45l-7.72 7.72c-.78.78-.78 2.05 0 2.83L4 21.41c.39.39.9.59 1.41.59.51 0 1.02-.2 1.41-.59l7.78-7.78 2.81-2.81c.8-.78.8-2.07 0-2.86zM5.41 20L4 18.59l7.72-7.72 1.47 1.35L5.41 20z\"/>\n",
              "  </svg>\n",
              "      </button>\n",
              "      \n",
              "  <style>\n",
              "    .colab-df-container {\n",
              "      display:flex;\n",
              "      flex-wrap:wrap;\n",
              "      gap: 12px;\n",
              "    }\n",
              "\n",
              "    .colab-df-convert {\n",
              "      background-color: #E8F0FE;\n",
              "      border: none;\n",
              "      border-radius: 50%;\n",
              "      cursor: pointer;\n",
              "      display: none;\n",
              "      fill: #1967D2;\n",
              "      height: 32px;\n",
              "      padding: 0 0 0 0;\n",
              "      width: 32px;\n",
              "    }\n",
              "\n",
              "    .colab-df-convert:hover {\n",
              "      background-color: #E2EBFA;\n",
              "      box-shadow: 0px 1px 2px rgba(60, 64, 67, 0.3), 0px 1px 3px 1px rgba(60, 64, 67, 0.15);\n",
              "      fill: #174EA6;\n",
              "    }\n",
              "\n",
              "    [theme=dark] .colab-df-convert {\n",
              "      background-color: #3B4455;\n",
              "      fill: #D2E3FC;\n",
              "    }\n",
              "\n",
              "    [theme=dark] .colab-df-convert:hover {\n",
              "      background-color: #434B5C;\n",
              "      box-shadow: 0px 1px 3px 1px rgba(0, 0, 0, 0.15);\n",
              "      filter: drop-shadow(0px 1px 2px rgba(0, 0, 0, 0.3));\n",
              "      fill: #FFFFFF;\n",
              "    }\n",
              "  </style>\n",
              "\n",
              "      <script>\n",
              "        const buttonEl =\n",
              "          document.querySelector('#df-f2b2c4f2-802e-4117-a84c-fe803997e867 button.colab-df-convert');\n",
              "        buttonEl.style.display =\n",
              "          google.colab.kernel.accessAllowed ? 'block' : 'none';\n",
              "\n",
              "        async function convertToInteractive(key) {\n",
              "          const element = document.querySelector('#df-f2b2c4f2-802e-4117-a84c-fe803997e867');\n",
              "          const dataTable =\n",
              "            await google.colab.kernel.invokeFunction('convertToInteractive',\n",
              "                                                     [key], {});\n",
              "          if (!dataTable) return;\n",
              "\n",
              "          const docLinkHtml = 'Like what you see? Visit the ' +\n",
              "            '<a target=\"_blank\" href=https://colab.research.google.com/notebooks/data_table.ipynb>data table notebook</a>'\n",
              "            + ' to learn more about interactive tables.';\n",
              "          element.innerHTML = '';\n",
              "          dataTable['output_type'] = 'display_data';\n",
              "          await google.colab.output.renderOutput(dataTable, element);\n",
              "          const docLink = document.createElement('div');\n",
              "          docLink.innerHTML = docLinkHtml;\n",
              "          element.appendChild(docLink);\n",
              "        }\n",
              "      </script>\n",
              "    </div>\n",
              "  </div>\n",
              "  "
            ]
          },
          "metadata": {},
          "execution_count": 6
        }
      ]
    },
    {
      "cell_type": "code",
      "source": [
        "# convert Date from object to datetime\n",
        "data['Date'] = pd.to_datetime(data['Date'], infer_datetime_format=True)"
      ],
      "metadata": {
        "id": "5WzBX9BExjAf"
      },
      "execution_count": 7,
      "outputs": []
    },
    {
      "cell_type": "code",
      "source": [
        "# print info to check conversion \n",
        "data=data.set_index(['Date']) # set date as index or rest_index()\n",
        "data.head()\n",
        "print(data.info())"
      ],
      "metadata": {
        "colab": {
          "base_uri": "https://localhost:8080/"
        },
        "id": "zKBiUhvKxoVP",
        "outputId": "e82ddf27-be04-4535-85fc-2908b7b9f823"
      },
      "execution_count": 8,
      "outputs": [
        {
          "output_type": "stream",
          "name": "stdout",
          "text": [
            "<class 'pandas.core.frame.DataFrame'>\n",
            "DatetimeIndex: 252 entries, 2021-12-27 to 2022-12-23\n",
            "Data columns (total 6 columns):\n",
            " #   Column     Non-Null Count  Dtype  \n",
            "---  ------     --------------  -----  \n",
            " 0   Open       252 non-null    float64\n",
            " 1   High       252 non-null    float64\n",
            " 2   Low        252 non-null    float64\n",
            " 3   Close      252 non-null    float64\n",
            " 4   Adj Close  252 non-null    float64\n",
            " 5   Volume     252 non-null    int64  \n",
            "dtypes: float64(5), int64(1)\n",
            "memory usage: 13.8 KB\n",
            "None\n"
          ]
        }
      ]
    },
    {
      "cell_type": "code",
      "source": [
        "# LSTM Model Building\n",
        "\n",
        "y = data['Adj Close']\n",
        "\n",
        "scaler = MinMaxScaler(feature_range = (0,1))\n",
        "y=scaler.fit_transform(np.array(y).reshape(-1,1))\n",
        "\n",
        "\n",
        "\n",
        "##splitting dataset into train and test split\n",
        "training_size=int(len(y)*0.65)\n",
        "test_size=len(y)-training_size\n",
        "train_data,test_data=y[0:training_size,:],y[training_size:len(y),:]\n",
        "\n",
        "\n",
        "\n",
        "# building the input variable\n",
        "def create_dataset(dataset, time_step=1):\n",
        "\tdataX, dataY = [], []\n",
        "\tfor i in range(len(dataset)-time_step-1):  # Time Series setps (0-99,100-200,,,,) any steps\n",
        "\t\ta = dataset[i:(i+time_step), 0]   \n",
        "\t\tdataX.append(a)\n",
        "\t\tdataY.append(dataset[i + time_step, 0])\n",
        "\treturn np.array(dataX), np.array(dataY)\n",
        "\n",
        "\n",
        "time_step = 10\n",
        "X_train, y_train = create_dataset(train_data, time_step) # apply create_dataset()\n",
        "X_test, y_test = create_dataset(test_data, time_step)\n",
        "\n",
        "print(X_train.shape), print(y_train.shape)\n",
        "#Output: (1836, 100) #The 100 is time_step\n",
        "#Output: (1836,)\n",
        "\n",
        "# reshape train & input-output pairs\n",
        "X_train =X_train.reshape(X_train.shape[0],X_train.shape[1] , 1)\n",
        "X_test = X_test.reshape(X_test.shape[0],X_test.shape[1] , 1)\n",
        "\n",
        "# Set random seed for reproducibility: get the same result after each time running the model\n",
        "tf.random.set_seed(1234)\n",
        "\n",
        "\n",
        "# # Build the LSTM Stack model\n",
        "model=Sequential()\n",
        "# Adding first LSTM layer\n",
        "model.add(LSTM(150,return_sequences=True,input_shape=(10,1)))\n",
        "model.add(Dropout(0.2)) # Dropout regularisation\n",
        "# second LSTM layer \n",
        "model.add(LSTM(150,return_sequences=True))\n",
        "# Adding third LSTM layer \n",
        "model.add(LSTM(150, return_sequences=True))\n",
        "model.add(Dropout(0.2))\n",
        "# Adding fourth LSTM layer\n",
        "model.add(LSTM(150)) #  you can try 100 as well\n",
        "model.add(Dropout(0.2))\n",
        "# Adding the Output Layer\n",
        "model.add(Dense(1))\n",
        "model.compile(loss='mean_squared_error',optimizer='adam')\n",
        "\n",
        "# summary of the model  \n",
        "model.summary()\n",
        "\n",
        "\n",
        "monitor = EarlyStopping(monitor='val_loss', min_delta=1e-3, patience=30, \n",
        "        verbose=1, mode='auto', restore_best_weights=True)\n",
        "\n",
        "history=model.fit(X_train,y_train,validation_data=(X_test,y_test),\n",
        "        callbacks=[monitor],verbose=1,epochs=1000)\n"
      ],
      "metadata": {
        "colab": {
          "base_uri": "https://localhost:8080/"
        },
        "id": "LwuGX2Q4xrnL",
        "outputId": "269d40e2-03cc-4af1-95c6-6c3ea2bfade1"
      },
      "execution_count": 28,
      "outputs": [
        {
          "output_type": "stream",
          "name": "stdout",
          "text": [
            "(152, 10)\n",
            "(152,)\n",
            "Model: \"sequential_1\"\n",
            "_________________________________________________________________\n",
            " Layer (type)                Output Shape              Param #   \n",
            "=================================================================\n",
            " lstm_4 (LSTM)               (None, 10, 150)           91200     \n",
            "                                                                 \n",
            " dropout_3 (Dropout)         (None, 10, 150)           0         \n",
            "                                                                 \n",
            " lstm_5 (LSTM)               (None, 10, 150)           180600    \n",
            "                                                                 \n",
            " lstm_6 (LSTM)               (None, 10, 150)           180600    \n",
            "                                                                 \n",
            " dropout_4 (Dropout)         (None, 10, 150)           0         \n",
            "                                                                 \n",
            " lstm_7 (LSTM)               (None, 150)               180600    \n",
            "                                                                 \n",
            " dropout_5 (Dropout)         (None, 150)               0         \n",
            "                                                                 \n",
            " dense_1 (Dense)             (None, 1)                 151       \n",
            "                                                                 \n",
            "=================================================================\n",
            "Total params: 633,151\n",
            "Trainable params: 633,151\n",
            "Non-trainable params: 0\n",
            "_________________________________________________________________\n",
            "Epoch 1/1000\n",
            "5/5 [==============================] - 10s 567ms/step - loss: 0.2173 - val_loss: 0.1260\n",
            "Epoch 2/1000\n",
            "5/5 [==============================] - 1s 124ms/step - loss: 0.0608 - val_loss: 0.0127\n",
            "Epoch 3/1000\n",
            "5/5 [==============================] - 1s 121ms/step - loss: 0.0510 - val_loss: 0.0455\n",
            "Epoch 4/1000\n",
            "5/5 [==============================] - 1s 125ms/step - loss: 0.0369 - val_loss: 0.0315\n",
            "Epoch 5/1000\n",
            "5/5 [==============================] - 1s 118ms/step - loss: 0.0349 - val_loss: 0.0169\n",
            "Epoch 6/1000\n",
            "5/5 [==============================] - 1s 121ms/step - loss: 0.0308 - val_loss: 0.0475\n",
            "Epoch 7/1000\n",
            "5/5 [==============================] - 1s 130ms/step - loss: 0.0289 - val_loss: 0.0187\n",
            "Epoch 8/1000\n",
            "5/5 [==============================] - 1s 127ms/step - loss: 0.0283 - val_loss: 0.0243\n",
            "Epoch 9/1000\n",
            "5/5 [==============================] - 1s 123ms/step - loss: 0.0282 - val_loss: 0.0255\n",
            "Epoch 10/1000\n",
            "5/5 [==============================] - 1s 121ms/step - loss: 0.0236 - val_loss: 0.0158\n",
            "Epoch 11/1000\n",
            "5/5 [==============================] - 1s 126ms/step - loss: 0.0254 - val_loss: 0.0226\n",
            "Epoch 12/1000\n",
            "5/5 [==============================] - 1s 127ms/step - loss: 0.0237 - val_loss: 0.0185\n",
            "Epoch 13/1000\n",
            "5/5 [==============================] - 1s 121ms/step - loss: 0.0236 - val_loss: 0.0197\n",
            "Epoch 14/1000\n",
            "5/5 [==============================] - 1s 132ms/step - loss: 0.0257 - val_loss: 0.0151\n",
            "Epoch 15/1000\n",
            "5/5 [==============================] - 1s 128ms/step - loss: 0.0254 - val_loss: 0.0207\n",
            "Epoch 16/1000\n",
            "5/5 [==============================] - 1s 132ms/step - loss: 0.0248 - val_loss: 0.0167\n",
            "Epoch 17/1000\n",
            "5/5 [==============================] - 1s 125ms/step - loss: 0.0253 - val_loss: 0.0212\n",
            "Epoch 18/1000\n",
            "5/5 [==============================] - 1s 121ms/step - loss: 0.0236 - val_loss: 0.0179\n",
            "Epoch 19/1000\n",
            "5/5 [==============================] - 1s 122ms/step - loss: 0.0238 - val_loss: 0.0200\n",
            "Epoch 20/1000\n",
            "5/5 [==============================] - 1s 122ms/step - loss: 0.0226 - val_loss: 0.0195\n",
            "Epoch 21/1000\n",
            "5/5 [==============================] - 1s 127ms/step - loss: 0.0239 - val_loss: 0.0197\n",
            "Epoch 22/1000\n",
            "5/5 [==============================] - 1s 126ms/step - loss: 0.0222 - val_loss: 0.0181\n",
            "Epoch 23/1000\n",
            "5/5 [==============================] - 1s 133ms/step - loss: 0.0234 - val_loss: 0.0167\n",
            "Epoch 24/1000\n",
            "5/5 [==============================] - 1s 129ms/step - loss: 0.0225 - val_loss: 0.0181\n",
            "Epoch 25/1000\n",
            "5/5 [==============================] - 1s 131ms/step - loss: 0.0219 - val_loss: 0.0180\n",
            "Epoch 26/1000\n",
            "5/5 [==============================] - 1s 236ms/step - loss: 0.0208 - val_loss: 0.0193\n",
            "Epoch 27/1000\n",
            "5/5 [==============================] - 1s 227ms/step - loss: 0.0207 - val_loss: 0.0158\n",
            "Epoch 28/1000\n",
            "5/5 [==============================] - 1s 182ms/step - loss: 0.0199 - val_loss: 0.0195\n",
            "Epoch 29/1000\n",
            "5/5 [==============================] - 1s 125ms/step - loss: 0.0205 - val_loss: 0.0140\n",
            "Epoch 30/1000\n",
            "5/5 [==============================] - 1s 128ms/step - loss: 0.0197 - val_loss: 0.0154\n",
            "Epoch 31/1000\n",
            "5/5 [==============================] - 1s 119ms/step - loss: 0.0187 - val_loss: 0.0212\n",
            "Epoch 32/1000\n",
            "5/5 [==============================] - ETA: 0s - loss: 0.0177Restoring model weights from the end of the best epoch: 2.\n",
            "5/5 [==============================] - 1s 128ms/step - loss: 0.0177 - val_loss: 0.0137\n",
            "Epoch 32: early stopping\n"
          ]
        }
      ]
    },
    {
      "cell_type": "code",
      "source": [
        "model_predictions = model.predict(X_test)\n",
        "\n",
        "\n",
        "plt.plot(model_predictions, label = \"pred\")\n",
        "plt.plot(y_test, label = \"actual\")\n",
        "plt.title(\"Prediction vs Actual\")\n",
        "plt.ylabel(\"Apple Stock Price\", fontsize=12)\n",
        "plt.xlabel(\"Time\", fontsize=12)\n",
        "plt.legend()"
      ],
      "metadata": {
        "colab": {
          "base_uri": "https://localhost:8080/",
          "height": 335
        },
        "id": "mXwJsR6myhT1",
        "outputId": "56c78eb2-544b-44c2-a6ff-b61306564f57"
      },
      "execution_count": 39,
      "outputs": [
        {
          "output_type": "stream",
          "name": "stdout",
          "text": [
            "3/3 [==============================] - 2s 41ms/step\n"
          ]
        },
        {
          "output_type": "execute_result",
          "data": {
            "text/plain": [
              "<matplotlib.legend.Legend at 0x7fa8031c3550>"
            ]
          },
          "metadata": {},
          "execution_count": 39
        },
        {
          "output_type": "display_data",
          "data": {
            "text/plain": [
              "<Figure size 432x288 with 1 Axes>"
            ],
            "image/png": "[encoded data removed]"
          },
          "metadata": {
            "needs_background": "light"
          }
        }
      ]
    },
    {
      "cell_type": "code",
      "source": [
        "#BILSTM Model Building\n",
        "bi_model = Sequential()\n",
        "bi_model.add(Bidirectional(LSTM(100, activation='relu', input_shape=(10,1)))) #elu\n",
        "#modell.add(Bidirectional(LSTM(50, dropout=0.5)))\n",
        "#modell.add(Bidirectional(LSTM(100, dropout=0.5)))\n",
        "#modell.add(BatchNormalization(momentum=0.6))\n",
        "bi_model.add(Dense(1))\n",
        "bi_model.compile(loss='mean_squared_error', optimizer='adam') #rmsprop | adam\n",
        "\n",
        "monitor = EarlyStopping(monitor='val_loss', min_delta=1e-3, patience=30, \n",
        "        verbose=1, mode='auto', restore_best_weights=True)\n",
        "\n",
        "history1=bi_model.fit(X_train,y_train,validation_data=(X_test,y_test),\n",
        "        callbacks=[monitor],verbose=1,epochs=1000)\n",
        "\n",
        "bi_model.summary()"
      ],
      "metadata": {
        "colab": {
          "base_uri": "https://localhost:8080/"
        },
        "id": "NRhU2SBA1O1K",
        "outputId": "0e17d5c7-8e8c-4cd7-a448-8b38c1ebcdfe"
      },
      "execution_count": 53,
      "outputs": [
        {
          "output_type": "stream",
          "name": "stdout",
          "text": [
            "Epoch 1/1000\n",
            "5/5 [==============================] - 4s 139ms/step - loss: 0.3089 - val_loss: 0.0680\n",
            "Epoch 2/1000\n",
            "5/5 [==============================] - 0s 24ms/step - loss: 0.1887 - val_loss: 0.0317\n",
            "Epoch 3/1000\n",
            "5/5 [==============================] - 0s 24ms/step - loss: 0.0943 - val_loss: 0.0103\n",
            "Epoch 4/1000\n",
            "5/5 [==============================] - 0s 26ms/step - loss: 0.0265 - val_loss: 0.0374\n",
            "Epoch 5/1000\n",
            "5/5 [==============================] - 0s 40ms/step - loss: 0.0351 - val_loss: 0.0361\n",
            "Epoch 6/1000\n",
            "5/5 [==============================] - 0s 24ms/step - loss: 0.0205 - val_loss: 0.0151\n",
            "Epoch 7/1000\n",
            "5/5 [==============================] - 0s 25ms/step - loss: 0.0193 - val_loss: 0.0109\n",
            "Epoch 8/1000\n",
            "5/5 [==============================] - 0s 23ms/step - loss: 0.0206 - val_loss: 0.0121\n",
            "Epoch 9/1000\n",
            "5/5 [==============================] - 0s 33ms/step - loss: 0.0168 - val_loss: 0.0167\n",
            "Epoch 10/1000\n",
            "5/5 [==============================] - 0s 26ms/step - loss: 0.0169 - val_loss: 0.0205\n",
            "Epoch 11/1000\n",
            "5/5 [==============================] - 0s 25ms/step - loss: 0.0164 - val_loss: 0.0161\n",
            "Epoch 12/1000\n",
            "5/5 [==============================] - 0s 25ms/step - loss: 0.0155 - val_loss: 0.0128\n",
            "Epoch 13/1000\n",
            "5/5 [==============================] - 0s 28ms/step - loss: 0.0155 - val_loss: 0.0133\n",
            "Epoch 14/1000\n",
            "5/5 [==============================] - 0s 26ms/step - loss: 0.0150 - val_loss: 0.0147\n",
            "Epoch 15/1000\n",
            "5/5 [==============================] - 0s 23ms/step - loss: 0.0143 - val_loss: 0.0127\n",
            "Epoch 16/1000\n",
            "5/5 [==============================] - 0s 25ms/step - loss: 0.0140 - val_loss: 0.0120\n",
            "Epoch 17/1000\n",
            "5/5 [==============================] - 0s 24ms/step - loss: 0.0138 - val_loss: 0.0122\n",
            "Epoch 18/1000\n",
            "5/5 [==============================] - 0s 25ms/step - loss: 0.0133 - val_loss: 0.0120\n",
            "Epoch 19/1000\n",
            "5/5 [==============================] - 0s 30ms/step - loss: 0.0132 - val_loss: 0.0113\n",
            "Epoch 20/1000\n",
            "5/5 [==============================] - 0s 28ms/step - loss: 0.0126 - val_loss: 0.0117\n",
            "Epoch 21/1000\n",
            "5/5 [==============================] - 0s 30ms/step - loss: 0.0124 - val_loss: 0.0108\n",
            "Epoch 22/1000\n",
            "5/5 [==============================] - 0s 29ms/step - loss: 0.0122 - val_loss: 0.0098\n",
            "Epoch 23/1000\n",
            "5/5 [==============================] - 0s 27ms/step - loss: 0.0116 - val_loss: 0.0107\n",
            "Epoch 24/1000\n",
            "5/5 [==============================] - 0s 24ms/step - loss: 0.0114 - val_loss: 0.0095\n",
            "Epoch 25/1000\n",
            "5/5 [==============================] - 0s 27ms/step - loss: 0.0109 - val_loss: 0.0094\n",
            "Epoch 26/1000\n",
            "5/5 [==============================] - 0s 23ms/step - loss: 0.0104 - val_loss: 0.0098\n",
            "Epoch 27/1000\n",
            "5/5 [==============================] - 0s 29ms/step - loss: 0.0101 - val_loss: 0.0089\n",
            "Epoch 28/1000\n",
            "5/5 [==============================] - 0s 25ms/step - loss: 0.0097 - val_loss: 0.0091\n",
            "Epoch 29/1000\n",
            "5/5 [==============================] - 0s 32ms/step - loss: 0.0093 - val_loss: 0.0087\n",
            "Epoch 30/1000\n",
            "5/5 [==============================] - 0s 49ms/step - loss: 0.0086 - val_loss: 0.0084\n",
            "Epoch 31/1000\n",
            "5/5 [==============================] - 0s 52ms/step - loss: 0.0083 - val_loss: 0.0080\n",
            "Epoch 32/1000\n",
            "5/5 [==============================] - 0s 62ms/step - loss: 0.0076 - val_loss: 0.0081\n",
            "Epoch 33/1000\n",
            "5/5 [==============================] - 0s 56ms/step - loss: 0.0076 - val_loss: 0.0088\n",
            "Epoch 34/1000\n",
            "5/5 [==============================] - 0s 61ms/step - loss: 0.0074 - val_loss: 0.0085\n",
            "Epoch 35/1000\n",
            "5/5 [==============================] - 0s 53ms/step - loss: 0.0073 - val_loss: 0.0068\n",
            "Epoch 36/1000\n",
            "5/5 [==============================] - 0s 52ms/step - loss: 0.0087 - val_loss: 0.0077\n",
            "Epoch 37/1000\n",
            "5/5 [==============================] - 0s 31ms/step - loss: 0.0072 - val_loss: 0.0091\n",
            "Epoch 38/1000\n",
            "5/5 [==============================] - 0s 32ms/step - loss: 0.0069 - val_loss: 0.0073\n",
            "Epoch 39/1000\n",
            "5/5 [==============================] - 0s 26ms/step - loss: 0.0071 - val_loss: 0.0067\n",
            "Epoch 40/1000\n",
            "5/5 [==============================] - 0s 25ms/step - loss: 0.0079 - val_loss: 0.0093\n",
            "Epoch 41/1000\n",
            "5/5 [==============================] - 0s 26ms/step - loss: 0.0076 - val_loss: 0.0072\n",
            "Epoch 42/1000\n",
            "5/5 [==============================] - 0s 26ms/step - loss: 0.0071 - val_loss: 0.0068\n",
            "Epoch 43/1000\n",
            "5/5 [==============================] - 0s 27ms/step - loss: 0.0075 - val_loss: 0.0088\n",
            "Epoch 44/1000\n",
            "5/5 [==============================] - 0s 28ms/step - loss: 0.0067 - val_loss: 0.0065\n",
            "Epoch 45/1000\n",
            "5/5 [==============================] - 0s 34ms/step - loss: 0.0065 - val_loss: 0.0081\n",
            "Epoch 46/1000\n",
            "5/5 [==============================] - 0s 26ms/step - loss: 0.0060 - val_loss: 0.0064\n",
            "Epoch 47/1000\n",
            "5/5 [==============================] - 0s 25ms/step - loss: 0.0073 - val_loss: 0.0084\n",
            "Epoch 48/1000\n",
            "5/5 [==============================] - 0s 27ms/step - loss: 0.0063 - val_loss: 0.0063\n",
            "Epoch 49/1000\n",
            "5/5 [==============================] - 0s 29ms/step - loss: 0.0067 - val_loss: 0.0079\n",
            "Epoch 50/1000\n",
            "5/5 [==============================] - 0s 26ms/step - loss: 0.0065 - val_loss: 0.0071\n",
            "Epoch 51/1000\n",
            "5/5 [==============================] - 0s 25ms/step - loss: 0.0058 - val_loss: 0.0070\n",
            "Epoch 52/1000\n",
            "5/5 [==============================] - 0s 29ms/step - loss: 0.0060 - val_loss: 0.0063\n",
            "Epoch 53/1000\n",
            "5/5 [==============================] - 0s 24ms/step - loss: 0.0060 - val_loss: 0.0063\n",
            "Epoch 54/1000\n",
            "5/5 [==============================] - 0s 29ms/step - loss: 0.0059 - val_loss: 0.0063\n",
            "Epoch 55/1000\n",
            "5/5 [==============================] - 0s 26ms/step - loss: 0.0058 - val_loss: 0.0070\n",
            "Epoch 56/1000\n",
            "5/5 [==============================] - 0s 31ms/step - loss: 0.0056 - val_loss: 0.0062\n",
            "Epoch 57/1000\n",
            "5/5 [==============================] - 0s 24ms/step - loss: 0.0055 - val_loss: 0.0061\n",
            "Epoch 58/1000\n",
            "5/5 [==============================] - 0s 25ms/step - loss: 0.0055 - val_loss: 0.0065\n",
            "Epoch 59/1000\n",
            "5/5 [==============================] - 0s 23ms/step - loss: 0.0055 - val_loss: 0.0065\n",
            "Epoch 60/1000\n",
            "5/5 [==============================] - 0s 32ms/step - loss: 0.0064 - val_loss: 0.0065\n",
            "Epoch 61/1000\n",
            "5/5 [==============================] - 0s 27ms/step - loss: 0.0067 - val_loss: 0.0076\n",
            "Epoch 62/1000\n",
            "5/5 [==============================] - 0s 26ms/step - loss: 0.0064 - val_loss: 0.0058\n",
            "Epoch 63/1000\n",
            "5/5 [==============================] - 0s 24ms/step - loss: 0.0057 - val_loss: 0.0065\n",
            "Epoch 64/1000\n",
            "5/5 [==============================] - 0s 24ms/step - loss: 0.0058 - val_loss: 0.0061\n",
            "Epoch 65/1000\n",
            "5/5 [==============================] - 0s 27ms/step - loss: 0.0055 - val_loss: 0.0058\n",
            "Epoch 66/1000\n",
            "5/5 [==============================] - 0s 25ms/step - loss: 0.0056 - val_loss: 0.0062\n",
            "Epoch 67/1000\n",
            "5/5 [==============================] - 0s 33ms/step - loss: 0.0056 - val_loss: 0.0057\n",
            "Epoch 68/1000\n",
            "5/5 [==============================] - 0s 35ms/step - loss: 0.0054 - val_loss: 0.0063\n",
            "Epoch 69/1000\n",
            "5/5 [==============================] - 0s 26ms/step - loss: 0.0051 - val_loss: 0.0056\n",
            "Epoch 70/1000\n",
            "5/5 [==============================] - 0s 24ms/step - loss: 0.0053 - val_loss: 0.0057\n",
            "Epoch 71/1000\n",
            "5/5 [==============================] - 0s 28ms/step - loss: 0.0051 - val_loss: 0.0056\n",
            "Epoch 72/1000\n",
            "5/5 [==============================] - 0s 28ms/step - loss: 0.0052 - val_loss: 0.0063\n",
            "Epoch 73/1000\n",
            "5/5 [==============================] - 0s 27ms/step - loss: 0.0050 - val_loss: 0.0057\n",
            "Epoch 74/1000\n",
            "5/5 [==============================] - 0s 28ms/step - loss: 0.0056 - val_loss: 0.0074\n",
            "Epoch 75/1000\n",
            "5/5 [==============================] - 0s 28ms/step - loss: 0.0057 - val_loss: 0.0057\n",
            "Epoch 76/1000\n",
            "5/5 [==============================] - 0s 27ms/step - loss: 0.0054 - val_loss: 0.0074\n",
            "Epoch 77/1000\n",
            "5/5 [==============================] - 0s 26ms/step - loss: 0.0059 - val_loss: 0.0055\n",
            "Epoch 78/1000\n",
            "5/5 [==============================] - 0s 28ms/step - loss: 0.0050 - val_loss: 0.0057\n",
            "Epoch 79/1000\n",
            "5/5 [==============================] - 0s 28ms/step - loss: 0.0050 - val_loss: 0.0057\n",
            "Epoch 80/1000\n",
            "5/5 [==============================] - 0s 26ms/step - loss: 0.0053 - val_loss: 0.0055\n",
            "Epoch 81/1000\n",
            "5/5 [==============================] - 0s 24ms/step - loss: 0.0050 - val_loss: 0.0060\n",
            "Epoch 82/1000\n",
            "5/5 [==============================] - 0s 32ms/step - loss: 0.0048 - val_loss: 0.0055\n",
            "Epoch 83/1000\n",
            "5/5 [==============================] - 0s 26ms/step - loss: 0.0050 - val_loss: 0.0057\n",
            "Epoch 84/1000\n",
            "5/5 [==============================] - 0s 27ms/step - loss: 0.0046 - val_loss: 0.0055\n",
            "Epoch 85/1000\n",
            "5/5 [==============================] - 0s 25ms/step - loss: 0.0051 - val_loss: 0.0060\n",
            "Epoch 86/1000\n",
            "5/5 [==============================] - 0s 26ms/step - loss: 0.0050 - val_loss: 0.0054\n",
            "Epoch 87/1000\n",
            "5/5 [==============================] - 0s 26ms/step - loss: 0.0048 - val_loss: 0.0056\n",
            "Epoch 88/1000\n",
            "5/5 [==============================] - 0s 29ms/step - loss: 0.0047 - val_loss: 0.0055\n",
            "Epoch 89/1000\n",
            "5/5 [==============================] - 0s 30ms/step - loss: 0.0048 - val_loss: 0.0054\n",
            "Epoch 90/1000\n",
            "5/5 [==============================] - 0s 24ms/step - loss: 0.0050 - val_loss: 0.0056\n",
            "Epoch 91/1000\n",
            "5/5 [==============================] - 0s 26ms/step - loss: 0.0050 - val_loss: 0.0054\n",
            "Epoch 92/1000\n",
            "5/5 [==============================] - ETA: 0s - loss: 0.0046Restoring model weights from the end of the best epoch: 62.\n",
            "5/5 [==============================] - 0s 26ms/step - loss: 0.0046 - val_loss: 0.0054\n",
            "Epoch 92: early stopping\n",
            "Model: \"sequential_12\"\n",
            "_________________________________________________________________\n",
            " Layer (type)                Output Shape              Param #   \n",
            "=================================================================\n",
            " bidirectional_20 (Bidirecti  (None, 200)              81600     \n",
            " onal)                                                           \n",
            "                                                                 \n",
            " dense_11 (Dense)            (None, 1)                 201       \n",
            "                                                                 \n",
            "=================================================================\n",
            "Total params: 81,801\n",
            "Trainable params: 81,801\n",
            "Non-trainable params: 0\n",
            "_________________________________________________________________\n"
          ]
        }
      ]
    },
    {
      "cell_type": "code",
      "source": [
        "bi_model_predictions = bi_model.predict(X_test)\n"
      ],
      "metadata": {
        "colab": {
          "base_uri": "https://localhost:8080/"
        },
        "id": "AAPZ3Ori1WOz",
        "outputId": "9c7d3099-7cee-494a-bdf4-c80db0146a78"
      },
      "execution_count": 54,
      "outputs": [
        {
          "output_type": "stream",
          "name": "stdout",
          "text": [
            "3/3 [==============================] - 1s 11ms/step\n"
          ]
        }
      ]
    },
    {
      "cell_type": "code",
      "source": [
        "plt.plot(bi_model_predictions, label = \"pred\")\n",
        "plt.plot(y_test, label = \"actual\")\n",
        "plt.title(\"Prediction vs Actual\")\n",
        "plt.ylabel(\"Apple Stock Price\", fontsize=12)\n",
        "plt.xlabel(\"Time\", fontsize=12)\n",
        "plt.legend()\n"
      ],
      "metadata": {
        "colab": {
          "base_uri": "https://localhost:8080/",
          "height": 316
        },
        "id": "XGZvm1wc3B2D",
        "outputId": "ebb32f1a-bd0e-48d7-cfdf-2ae3786cd940"
      },
      "execution_count": 55,
      "outputs": [
        {
          "output_type": "execute_result",
          "data": {
            "text/plain": [
              "<matplotlib.legend.Legend at 0x7fa803fd2310>"
            ]
          },
          "metadata": {},
          "execution_count": 55
        },
        {
          "output_type": "display_data",
          "data": {
            "text/plain": [
              "<Figure size 432x288 with 1 Axes>"
            ],
            "image/png": "[encoded data removed]"
          },
          "metadata": {
            "needs_background": "light"
          }
        }
      ]
    },
    {
      "cell_type": "code",
      "source": [
        "#BILSTM Model Building\n",
        "bi_model2 = Sequential()\n",
        "bi_model2.add(Bidirectional(LSTM(100, activation='relu', input_shape=(1000,1)))) #elu\n",
        "bi_model2.add(BatchNormalization(momentum=0.6))\n",
        "bi_model2.add(Dense(1))\n",
        "bi_model2.compile(loss='mean_squared_error', optimizer='adam') #rmsprop | adam\n",
        "\n",
        "monitor = EarlyStopping(monitor='val_loss', min_delta=1e-3, patience=30, \n",
        "        verbose=1, mode='auto', restore_best_weights=True)\n",
        "\n",
        "history2=bi_model2.fit(X_train,y_train,validation_data=(X_test,y_test),callbacks=[monitor],verbose=1,epochs=1000)\n",
        "\n",
        "bi_model2.summary()\n",
        "\n"
      ],
      "metadata": {
        "colab": {
          "base_uri": "https://localhost:8080/"
        },
        "id": "9OgQzoPw3b68",
        "outputId": "a8d9fccf-162c-4cb1-abfc-705b869f54bf"
      },
      "execution_count": 65,
      "outputs": [
        {
          "output_type": "stream",
          "name": "stdout",
          "text": [
            "Epoch 1/1000\n",
            "5/5 [==============================] - 5s 150ms/step - loss: 0.2934 - val_loss: 0.0869\n",
            "Epoch 2/1000\n",
            "5/5 [==============================] - 0s 26ms/step - loss: 0.1882 - val_loss: 0.0336\n",
            "Epoch 3/1000\n",
            "5/5 [==============================] - 0s 25ms/step - loss: 0.1176 - val_loss: 0.0662\n",
            "Epoch 4/1000\n",
            "5/5 [==============================] - 0s 33ms/step - loss: 0.0583 - val_loss: 0.0115\n",
            "Epoch 5/1000\n",
            "5/5 [==============================] - 0s 30ms/step - loss: 0.0234 - val_loss: 0.0139\n",
            "Epoch 6/1000\n",
            "5/5 [==============================] - 0s 29ms/step - loss: 0.0112 - val_loss: 0.0080\n",
            "Epoch 7/1000\n",
            "5/5 [==============================] - 0s 26ms/step - loss: 0.0086 - val_loss: 0.0100\n",
            "Epoch 8/1000\n",
            "5/5 [==============================] - 0s 29ms/step - loss: 0.0106 - val_loss: 0.0156\n",
            "Epoch 9/1000\n",
            "5/5 [==============================] - 0s 26ms/step - loss: 0.0134 - val_loss: 0.0077\n",
            "Epoch 10/1000\n",
            "5/5 [==============================] - 0s 26ms/step - loss: 0.0088 - val_loss: 0.0137\n",
            "Epoch 11/1000\n",
            "5/5 [==============================] - 0s 32ms/step - loss: 0.0073 - val_loss: 0.0060\n",
            "Epoch 12/1000\n",
            "5/5 [==============================] - 0s 27ms/step - loss: 0.0066 - val_loss: 0.0064\n",
            "Epoch 13/1000\n",
            "5/5 [==============================] - 0s 29ms/step - loss: 0.0054 - val_loss: 0.0060\n",
            "Epoch 14/1000\n",
            "5/5 [==============================] - 0s 30ms/step - loss: 0.0054 - val_loss: 0.0066\n",
            "Epoch 15/1000\n",
            "5/5 [==============================] - 0s 30ms/step - loss: 0.0050 - val_loss: 0.0059\n",
            "Epoch 16/1000\n",
            "5/5 [==============================] - 0s 24ms/step - loss: 0.0054 - val_loss: 0.0058\n",
            "Epoch 17/1000\n",
            "5/5 [==============================] - 0s 27ms/step - loss: 0.0057 - val_loss: 0.0073\n",
            "Epoch 18/1000\n",
            "5/5 [==============================] - 0s 26ms/step - loss: 0.0058 - val_loss: 0.0074\n",
            "Epoch 19/1000\n",
            "5/5 [==============================] - 0s 26ms/step - loss: 0.0053 - val_loss: 0.0064\n",
            "Epoch 20/1000\n",
            "5/5 [==============================] - 0s 24ms/step - loss: 0.0062 - val_loss: 0.0062\n",
            "Epoch 21/1000\n",
            "5/5 [==============================] - 0s 40ms/step - loss: 0.0052 - val_loss: 0.0073\n",
            "Epoch 22/1000\n",
            "5/5 [==============================] - 0s 53ms/step - loss: 0.0073 - val_loss: 0.0060\n",
            "Epoch 23/1000\n",
            "5/5 [==============================] - 0s 45ms/step - loss: 0.0065 - val_loss: 0.0059\n",
            "Epoch 24/1000\n",
            "5/5 [==============================] - 0s 51ms/step - loss: 0.0054 - val_loss: 0.0058\n",
            "Epoch 25/1000\n",
            "5/5 [==============================] - 0s 64ms/step - loss: 0.0064 - val_loss: 0.0101\n",
            "Epoch 26/1000\n",
            "5/5 [==============================] - 0s 55ms/step - loss: 0.0077 - val_loss: 0.0064\n",
            "Epoch 27/1000\n",
            "5/5 [==============================] - 0s 24ms/step - loss: 0.0052 - val_loss: 0.0058\n",
            "Epoch 28/1000\n",
            "5/5 [==============================] - 0s 27ms/step - loss: 0.0060 - val_loss: 0.0124\n",
            "Epoch 29/1000\n",
            "5/5 [==============================] - 0s 25ms/step - loss: 0.0055 - val_loss: 0.0102\n",
            "Epoch 30/1000\n",
            "5/5 [==============================] - 0s 27ms/step - loss: 0.0067 - val_loss: 0.0058\n",
            "Epoch 31/1000\n",
            "5/5 [==============================] - 0s 25ms/step - loss: 0.0050 - val_loss: 0.0066\n",
            "Epoch 32/1000\n",
            "5/5 [==============================] - 0s 28ms/step - loss: 0.0059 - val_loss: 0.0105\n",
            "Epoch 33/1000\n",
            "5/5 [==============================] - 0s 25ms/step - loss: 0.0051 - val_loss: 0.0070\n",
            "Epoch 34/1000\n",
            "5/5 [==============================] - 0s 28ms/step - loss: 0.0051 - val_loss: 0.0060\n",
            "Epoch 35/1000\n",
            "5/5 [==============================] - 0s 26ms/step - loss: 0.0085 - val_loss: 0.0131\n",
            "Epoch 36/1000\n",
            "5/5 [==============================] - 0s 27ms/step - loss: 0.0068 - val_loss: 0.0061\n",
            "Epoch 37/1000\n",
            "5/5 [==============================] - 0s 28ms/step - loss: 0.0073 - val_loss: 0.0098\n",
            "Epoch 38/1000\n",
            "5/5 [==============================] - 0s 26ms/step - loss: 0.0054 - val_loss: 0.0092\n",
            "Epoch 39/1000\n",
            "5/5 [==============================] - 0s 27ms/step - loss: 0.0054 - val_loss: 0.0056\n",
            "Epoch 40/1000\n",
            "5/5 [==============================] - 0s 25ms/step - loss: 0.0049 - val_loss: 0.0058\n",
            "Epoch 41/1000\n",
            "4/5 [=======================>......] - ETA: 0s - loss: 0.0047Restoring model weights from the end of the best epoch: 11.\n",
            "5/5 [==============================] - 0s 30ms/step - loss: 0.0050 - val_loss: 0.0090\n",
            "Epoch 41: early stopping\n",
            "Model: \"sequential_17\"\n",
            "_________________________________________________________________\n",
            " Layer (type)                Output Shape              Param #   \n",
            "=================================================================\n",
            " bidirectional_28 (Bidirecti  (None, 200)              81600     \n",
            " onal)                                                           \n",
            "                                                                 \n",
            " batch_normalization_4 (Batc  (None, 200)              800       \n",
            " hNormalization)                                                 \n",
            "                                                                 \n",
            " dense_12 (Dense)            (None, 1)                 201       \n",
            "                                                                 \n",
            "=================================================================\n",
            "Total params: 82,601\n",
            "Trainable params: 82,201\n",
            "Non-trainable params: 400\n",
            "_________________________________________________________________\n"
          ]
        }
      ]
    },
    {
      "cell_type": "code",
      "source": [
        "\n",
        "bi_model_predictions2 = bi_model2.predict(X_test)\n"
      ],
      "metadata": {
        "colab": {
          "base_uri": "https://localhost:8080/"
        },
        "id": "s4YNasOA4gDC",
        "outputId": "dd9ec5b6-bf37-4585-80db-94d7f3e7ca35"
      },
      "execution_count": 72,
      "outputs": [
        {
          "output_type": "stream",
          "name": "stdout",
          "text": [
            "3/3 [==============================] - 0s 8ms/step\n"
          ]
        }
      ]
    },
    {
      "cell_type": "code",
      "source": [
        "plt.plot(bi_model_predictions2, label = \"pred\")\n",
        "plt.plot(y_test, label = \"actual\")\n",
        "plt.title(\"Prediction vs Actual\")\n",
        "plt.ylabel(\"Apple Stock Price\", fontsize=12)\n",
        "plt.xlabel(\"Time\", fontsize=12)\n"
      ],
      "metadata": {
        "colab": {
          "base_uri": "https://localhost:8080/",
          "height": 316
        },
        "id": "sUyDAcKS5UcE",
        "outputId": "7832e93f-0b63-4f45-85ac-ed3df59c1efc"
      },
      "execution_count": 71,
      "outputs": [
        {
          "output_type": "execute_result",
          "data": {
            "text/plain": [
              "Text(0.5, 0, 'Time')"
            ]
          },
          "metadata": {},
          "execution_count": 71
        },
        {
          "output_type": "display_data",
          "data": {
            "text/plain": [
              "<Figure size 432x288 with 1 Axes>"
            ],
            "image/png": "[encoded data removed]"
          },
          "metadata": {
            "needs_background": "light"
          }
        }
      ]
    },
    {
      "cell_type": "code",
      "source": [],
      "metadata": {
        "id": "BBgUsSj47cPZ"
      },
      "execution_count": 71,
      "outputs": []
    },
    {
      "cell_type": "code",
      "source": [],
      "metadata": {
        "id": "ZOTCOk8y8Vkf"
      },
      "execution_count": null,
      "outputs": []
    }
  ]
}